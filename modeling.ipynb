{
 "cells": [
  {
   "cell_type": "markdown",
   "id": "85ef2183",
   "metadata": {},
   "source": [
    "# Modeling Exercises"
   ]
  },
  {
   "cell_type": "code",
   "execution_count": 10,
   "id": "5d1e1080",
   "metadata": {},
   "outputs": [],
   "source": [
    "import pandas as pd\n",
    "import numpy as np\n",
    "import wrangle as w\n",
    "import matplotlib.pyplot as plt\n",
    "\n",
    "from sklearn.metrics import mean_squared_error\n",
    "from sklearn.linear_model import LinearRegression, LassoLars, TweedieRegressor\n",
    "from sklearn.preprocessing import PolynomialFeatures\n",
    "from sklearn.metrics import explained_variance_score\n",
    "\n",
    "import warnings\n",
    "warnings.filterwarnings(\"ignore\")"
   ]
  },
  {
   "cell_type": "markdown",
   "id": "3bf9a87d",
   "metadata": {},
   "source": [
    "## 1. Select a dataset with a continuous target variable."
   ]
  },
  {
   "cell_type": "code",
   "execution_count": 6,
   "id": "014524e7",
   "metadata": {},
   "outputs": [],
   "source": [
    "df = w.wrangle_zillow()"
   ]
  },
  {
   "cell_type": "code",
   "execution_count": 7,
   "id": "42f9ca8d",
   "metadata": {},
   "outputs": [
    {
     "data": {
      "text/html": [
       "<div>\n",
       "<style scoped>\n",
       "    .dataframe tbody tr th:only-of-type {\n",
       "        vertical-align: middle;\n",
       "    }\n",
       "\n",
       "    .dataframe tbody tr th {\n",
       "        vertical-align: top;\n",
       "    }\n",
       "\n",
       "    .dataframe thead th {\n",
       "        text-align: right;\n",
       "    }\n",
       "</style>\n",
       "<table border=\"1\" class=\"dataframe\">\n",
       "  <thead>\n",
       "    <tr style=\"text-align: right;\">\n",
       "      <th></th>\n",
       "      <th>bedcount</th>\n",
       "      <th>bathcount</th>\n",
       "      <th>sqfeet</th>\n",
       "      <th>value</th>\n",
       "      <th>yearbuilt</th>\n",
       "      <th>taxamount</th>\n",
       "      <th>fips</th>\n",
       "    </tr>\n",
       "  </thead>\n",
       "  <tbody>\n",
       "    <tr>\n",
       "      <th>4</th>\n",
       "      <td>4.0</td>\n",
       "      <td>2.0</td>\n",
       "      <td>3633</td>\n",
       "      <td>296425.0</td>\n",
       "      <td>2005</td>\n",
       "      <td>6941.39</td>\n",
       "      <td>6037</td>\n",
       "    </tr>\n",
       "    <tr>\n",
       "      <th>6</th>\n",
       "      <td>3.0</td>\n",
       "      <td>4.0</td>\n",
       "      <td>1620</td>\n",
       "      <td>847770.0</td>\n",
       "      <td>2011</td>\n",
       "      <td>10244.94</td>\n",
       "      <td>6037</td>\n",
       "    </tr>\n",
       "    <tr>\n",
       "      <th>7</th>\n",
       "      <td>3.0</td>\n",
       "      <td>2.0</td>\n",
       "      <td>2077</td>\n",
       "      <td>646760.0</td>\n",
       "      <td>1926</td>\n",
       "      <td>7924.68</td>\n",
       "      <td>6037</td>\n",
       "    </tr>\n",
       "    <tr>\n",
       "      <th>11</th>\n",
       "      <td>0.0</td>\n",
       "      <td>0.0</td>\n",
       "      <td>1200</td>\n",
       "      <td>5328.0</td>\n",
       "      <td>1972</td>\n",
       "      <td>91.60</td>\n",
       "      <td>6037</td>\n",
       "    </tr>\n",
       "    <tr>\n",
       "      <th>14</th>\n",
       "      <td>0.0</td>\n",
       "      <td>0.0</td>\n",
       "      <td>171</td>\n",
       "      <td>6920.0</td>\n",
       "      <td>1973</td>\n",
       "      <td>255.17</td>\n",
       "      <td>6037</td>\n",
       "    </tr>\n",
       "  </tbody>\n",
       "</table>\n",
       "</div>"
      ],
      "text/plain": [
       "    bedcount  bathcount  sqfeet     value  yearbuilt  taxamount  fips\n",
       "4        4.0        2.0    3633  296425.0       2005    6941.39  6037\n",
       "6        3.0        4.0    1620  847770.0       2011   10244.94  6037\n",
       "7        3.0        2.0    2077  646760.0       1926    7924.68  6037\n",
       "11       0.0        0.0    1200    5328.0       1972      91.60  6037\n",
       "14       0.0        0.0     171    6920.0       1973     255.17  6037"
      ]
     },
     "execution_count": 7,
     "metadata": {},
     "output_type": "execute_result"
    }
   ],
   "source": [
    "df.head()"
   ]
  },
  {
   "cell_type": "markdown",
   "id": "28a42a02",
   "metadata": {},
   "source": [
    "## 2. Be sure your data is prepared (no missing values, numeric datatypes) and split into samples."
   ]
  },
  {
   "cell_type": "code",
   "execution_count": 8,
   "id": "69475393",
   "metadata": {},
   "outputs": [],
   "source": [
    "X_train, y_train, X_validate, y_validate, X_test, y_test = w.zillow_model_split(df)"
   ]
  },
  {
   "cell_type": "markdown",
   "id": "4914ecd4",
   "metadata": {},
   "source": [
    "## 3. Work through all of the steps outlined in the lesson, from setting the baseline to selected a model and evaluating the final model on your test data."
   ]
  },
  {
   "cell_type": "code",
   "execution_count": 11,
   "id": "90cdf97c",
   "metadata": {},
   "outputs": [],
   "source": [
    "y_train = pd.DataFrame(y_train)\n",
    "y_validate = pd.DataFrame(y_validate)\n",
    "\n",
    "# add the mean baseline to the db\n",
    "value_pred_mean = y_train.value.mean()\n",
    "y_train['value_pred_mean'] = value_pred_mean\n",
    "y_validate['value_pred_mean'] = value_pred_mean \n",
    "\n",
    "# RMSE of baseline\n",
    "rmse_train = mean_squared_error(y_train.value, y_train.value_pred_mean) ** (.5)\n",
    "\n",
    "rmse_validate = mean_squared_error(y_validate.value, y_validate.value_pred_mean) ** (.5)\n",
    "\n",
    "# create a df to easily view results of models\n",
    "metric_df = pd.DataFrame(data = [\n",
    "        {\n",
    "            'model': \"mean_baseline\",\n",
    "            'RMSE_train': rmse_train,\n",
    "            'RMSE_validate': rmse_validate,\n",
    "            'R2_validate': explained_variance_score(y_validate.value, y_validate.value_pred_mean)\n",
    "        }\n",
    "])"
   ]
  },
  {
   "cell_type": "code",
   "execution_count": 12,
   "id": "7044ea65",
   "metadata": {},
   "outputs": [
    {
     "name": "stdout",
     "output_type": "stream",
     "text": [
      "RMSE for OLS using LinearRegression\n",
      "    Training/In-Sample:  87320.10 \n",
      "    Validation/Out-of-Sample: 91122.45\n",
      "\n"
     ]
    }
   ],
   "source": [
    "lm = LinearRegression()\n",
    "\n",
    "OLSmodel = lm.fit(X_train, y_train.value)\n",
    "\n",
    "# make a prediction and save it to the y_train\n",
    "y_train['value_pred_ols'] = lm.predict(X_train)\n",
    "\n",
    "#evaluate RMSE\n",
    "rmse_train_ols = mean_squared_error(y_train.value, y_train.value_pred_ols) ** .5\n",
    "\n",
    "# predict validate\n",
    "y_validate['value_pred_ols'] = lm.predict(X_validate)\n",
    "\n",
    "# evaluate RMSE for validate\n",
    "rmse_validate_ols = mean_squared_error(y_validate.value, y_validate.value_pred_ols) ** .5\n",
    "\n",
    "#append metric\n",
    "metric_df = metric_df.append({\n",
    "        'model': 'ols',\n",
    "        'RMSE_train': rmse_train_ols,\n",
    "        'RMSE_validate': rmse_validate_ols,\n",
    "        'R2_validate': explained_variance_score(y_validate.value, y_validate.value_pred_ols)    \n",
    "}, ignore_index=True)\n",
    "\n",
    "print(f\"\"\"RMSE for OLS using LinearRegression\n",
    "        Training/In-Sample:  {rmse_train_ols:.2f} \n",
    "        Validation/Out-of-Sample: {rmse_validate_ols:.2f}\\n\"\"\")"
   ]
  },
  {
   "cell_type": "code",
   "execution_count": 13,
   "id": "a5518228",
   "metadata": {},
   "outputs": [
    {
     "name": "stdout",
     "output_type": "stream",
     "text": [
      "RMSE for LassoLars\n",
      "        Training/In-Sample:  87320.10 \n",
      "        Validation/Out-of-Sample: 91122.45\n",
      "\n"
     ]
    }
   ],
   "source": [
    "lars = LassoLars(alpha=0.03)\n",
    "\n",
    "Larsmodel = lars.fit(X_train, y_train.value)\n",
    "\n",
    "# make a prediction and save it to the y_train\n",
    "y_train['value_pred_lars'] = lars.predict(X_train)\n",
    "\n",
    "#evaluate RMSE\n",
    "rmse_train_lars = mean_squared_error(y_train.value, y_train.value_pred_lars) ** .5\n",
    "\n",
    "# predict validate\n",
    "y_validate['value_pred_lars'] = lars.predict(X_validate)\n",
    "\n",
    "# evaluate RMSE for validate\n",
    "rmse_validate_lars = mean_squared_error(y_validate.value, y_validate.value_pred_lars) ** .5\n",
    "\n",
    "#append metric\n",
    "metric_df = metric_df.append({\n",
    "        'model': 'lasso_alpha0.03',\n",
    "        'RMSE_train': rmse_train_lars,\n",
    "        'RMSE_validate': rmse_validate_lars,\n",
    "        'R2_validate': explained_variance_score(y_validate.value, y_validate.value_pred_lars)    \n",
    "}, ignore_index=True)\n",
    "\n",
    "print(f\"\"\"RMSE for LassoLars\n",
    "        Training/In-Sample:  {rmse_train_lars:.2f} \n",
    "        Validation/Out-of-Sample: {rmse_validate_lars:.2f}\\n\"\"\")"
   ]
  },
  {
   "cell_type": "code",
   "execution_count": 14,
   "id": "625be06d",
   "metadata": {},
   "outputs": [
    {
     "name": "stdout",
     "output_type": "stream",
     "text": [
      "RMSE for TweedieRegressor\n",
      "        Training/In-Sample:  676521.52 \n",
      "        Validation/Out-of-Sample: 695563.06\n",
      "\n"
     ]
    }
   ],
   "source": [
    "tr = TweedieRegressor(power=1, alpha=1.0)\n",
    "\n",
    "Tweediemodel = tr.fit(X_train, y_train.value)\n",
    "\n",
    "# make a prediction and save it to the y_train\n",
    "y_train['value_pred_tweedie'] = tr.predict(X_train)\n",
    "\n",
    "#evaluate RMSE\n",
    "rmse_train_tweedie = mean_squared_error(y_train.value, y_train.value_pred_tweedie) ** .5\n",
    "\n",
    "# predict validate\n",
    "y_validate['value_pred_tweedie'] = tr.predict(X_validate)\n",
    "\n",
    "# evaluate RMSE for validate\n",
    "rmse_validate_tweedie = mean_squared_error(y_validate.value, y_validate.value_pred_tweedie) ** .5\n",
    "\n",
    "# append metric\n",
    "metric_df = metric_df.append({\n",
    "        'model': 'tweedie_power1_alpha1.0',\n",
    "        'RMSE_train': rmse_train_tweedie,\n",
    "        'RMSE_validate': rmse_validate_tweedie,\n",
    "        'R2_validate': explained_variance_score(y_validate.value, y_validate.value_pred_tweedie)    \n",
    "}, ignore_index=True)\n",
    "\n",
    "print(f\"\"\"RMSE for TweedieRegressor\n",
    "        Training/In-Sample:  {rmse_train_tweedie:.2f} \n",
    "        Validation/Out-of-Sample: {rmse_validate_tweedie:.2f}\\n\"\"\")"
   ]
  },
  {
   "cell_type": "code",
   "execution_count": null,
   "id": "871b5177",
   "metadata": {},
   "outputs": [],
   "source": []
  }
 ],
 "metadata": {
  "kernelspec": {
   "display_name": "Python 3 (ipykernel)",
   "language": "python",
   "name": "python3"
  },
  "language_info": {
   "codemirror_mode": {
    "name": "ipython",
    "version": 3
   },
   "file_extension": ".py",
   "mimetype": "text/x-python",
   "name": "python",
   "nbconvert_exporter": "python",
   "pygments_lexer": "ipython3",
   "version": "3.10.9"
  }
 },
 "nbformat": 4,
 "nbformat_minor": 5
}
