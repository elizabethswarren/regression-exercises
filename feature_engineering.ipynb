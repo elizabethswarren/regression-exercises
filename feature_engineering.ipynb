{
 "cells": [
  {
   "cell_type": "code",
   "execution_count": 1,
   "id": "8ad73377",
   "metadata": {},
   "outputs": [],
   "source": [
    "import pandas as pd\n",
    "import numpy as np\n",
    "\n",
    "from sklearn.feature_selection import SelectKBest, f_regression, RFE\n",
    "from sklearn.preprocessing import LabelEncoder, MinMaxScaler\n",
    "from sklearn.model_selection import train_test_split\n",
    "\n",
    "from sklearn.linear_model import LinearRegression\n",
    "\n",
    "\n",
    "from pydataset import data"
   ]
  },
  {
   "cell_type": "markdown",
   "id": "9649d0bb",
   "metadata": {},
   "source": [
    "## 1. Load the tips dataset."
   ]
  },
  {
   "cell_type": "code",
   "execution_count": 2,
   "id": "dedb5aac",
   "metadata": {},
   "outputs": [],
   "source": [
    "df = data('tips')"
   ]
  },
  {
   "cell_type": "markdown",
   "id": "64d15dd9",
   "metadata": {},
   "source": [
    "### a. Create a column named price_per_person. This should be the total bill divided by the party size."
   ]
  },
  {
   "cell_type": "code",
   "execution_count": 3,
   "id": "cae95755",
   "metadata": {},
   "outputs": [],
   "source": [
    "df['price_per_person'] = df.total_bill / df.size"
   ]
  },
  {
   "cell_type": "code",
   "execution_count": 4,
   "id": "adc3f90a",
   "metadata": {},
   "outputs": [
    {
     "data": {
      "text/html": [
       "<div>\n",
       "<style scoped>\n",
       "    .dataframe tbody tr th:only-of-type {\n",
       "        vertical-align: middle;\n",
       "    }\n",
       "\n",
       "    .dataframe tbody tr th {\n",
       "        vertical-align: top;\n",
       "    }\n",
       "\n",
       "    .dataframe thead th {\n",
       "        text-align: right;\n",
       "    }\n",
       "</style>\n",
       "<table border=\"1\" class=\"dataframe\">\n",
       "  <thead>\n",
       "    <tr style=\"text-align: right;\">\n",
       "      <th></th>\n",
       "      <th>total_bill</th>\n",
       "      <th>tip</th>\n",
       "      <th>sex</th>\n",
       "      <th>smoker</th>\n",
       "      <th>day</th>\n",
       "      <th>time</th>\n",
       "      <th>size</th>\n",
       "      <th>price_per_person</th>\n",
       "    </tr>\n",
       "  </thead>\n",
       "  <tbody>\n",
       "    <tr>\n",
       "      <th>1</th>\n",
       "      <td>16.99</td>\n",
       "      <td>1.01</td>\n",
       "      <td>Female</td>\n",
       "      <td>No</td>\n",
       "      <td>Sun</td>\n",
       "      <td>Dinner</td>\n",
       "      <td>2</td>\n",
       "      <td>0.009947</td>\n",
       "    </tr>\n",
       "    <tr>\n",
       "      <th>2</th>\n",
       "      <td>10.34</td>\n",
       "      <td>1.66</td>\n",
       "      <td>Male</td>\n",
       "      <td>No</td>\n",
       "      <td>Sun</td>\n",
       "      <td>Dinner</td>\n",
       "      <td>3</td>\n",
       "      <td>0.006054</td>\n",
       "    </tr>\n",
       "    <tr>\n",
       "      <th>3</th>\n",
       "      <td>21.01</td>\n",
       "      <td>3.50</td>\n",
       "      <td>Male</td>\n",
       "      <td>No</td>\n",
       "      <td>Sun</td>\n",
       "      <td>Dinner</td>\n",
       "      <td>3</td>\n",
       "      <td>0.012301</td>\n",
       "    </tr>\n",
       "    <tr>\n",
       "      <th>4</th>\n",
       "      <td>23.68</td>\n",
       "      <td>3.31</td>\n",
       "      <td>Male</td>\n",
       "      <td>No</td>\n",
       "      <td>Sun</td>\n",
       "      <td>Dinner</td>\n",
       "      <td>2</td>\n",
       "      <td>0.013864</td>\n",
       "    </tr>\n",
       "    <tr>\n",
       "      <th>5</th>\n",
       "      <td>24.59</td>\n",
       "      <td>3.61</td>\n",
       "      <td>Female</td>\n",
       "      <td>No</td>\n",
       "      <td>Sun</td>\n",
       "      <td>Dinner</td>\n",
       "      <td>4</td>\n",
       "      <td>0.014397</td>\n",
       "    </tr>\n",
       "  </tbody>\n",
       "</table>\n",
       "</div>"
      ],
      "text/plain": [
       "   total_bill   tip     sex smoker  day    time  size  price_per_person\n",
       "1       16.99  1.01  Female     No  Sun  Dinner     2          0.009947\n",
       "2       10.34  1.66    Male     No  Sun  Dinner     3          0.006054\n",
       "3       21.01  3.50    Male     No  Sun  Dinner     3          0.012301\n",
       "4       23.68  3.31    Male     No  Sun  Dinner     2          0.013864\n",
       "5       24.59  3.61  Female     No  Sun  Dinner     4          0.014397"
      ]
     },
     "execution_count": 4,
     "metadata": {},
     "output_type": "execute_result"
    }
   ],
   "source": [
    "df.head()"
   ]
  },
  {
   "cell_type": "markdown",
   "id": "2b3d5e83",
   "metadata": {},
   "source": [
    "### b. Before using any of the methods discussed in the lesson, which features do you think would be most important for predicting the tip amount?"
   ]
  },
  {
   "cell_type": "markdown",
   "id": "0e72faa0",
   "metadata": {},
   "source": [
    "I think that total bill, time, and day will be the most important features."
   ]
  },
  {
   "cell_type": "markdown",
   "id": "131cd414",
   "metadata": {},
   "source": [
    "### c. Use select k best to select the top 2 features for predicting tip amount. What are they?"
   ]
  },
  {
   "cell_type": "code",
   "execution_count": 5,
   "id": "20ce95ff",
   "metadata": {},
   "outputs": [],
   "source": [
    "df[['sex', 'smoker', 'day', 'time']] = df[['sex', 'smoker', 'day', 'time']].apply(LabelEncoder().fit_transform)"
   ]
  },
  {
   "cell_type": "code",
   "execution_count": 6,
   "id": "f3dbadbc",
   "metadata": {},
   "outputs": [],
   "source": [
    "train_validate, test = train_test_split(df, test_size = .2, random_state=311)\n",
    "\n",
    "train, validate = train_test_split(train_validate, test_size = .25, random_state=311)"
   ]
  },
  {
   "cell_type": "code",
   "execution_count": 7,
   "id": "322f8dfa",
   "metadata": {},
   "outputs": [],
   "source": [
    "scaler = MinMaxScaler().set_output(transform=\"pandas\")\n",
    "\n",
    "scaler.fit(train)\n",
    "\n",
    "train = scaler.transform(train)\n",
    "validate = scaler.transform(validate)\n",
    "test = scaler.transform(test)\n"
   ]
  },
  {
   "cell_type": "code",
   "execution_count": 8,
   "id": "1a5eb2f5",
   "metadata": {},
   "outputs": [],
   "source": [
    "X_train = train.drop(columns='tip')\n",
    "y_train = train.tip\n",
    "X_validate = validate.drop(columns='tip')\n",
    "y_validate = validate.tip\n",
    "X_test = test.drop(columns='tip')\n",
    "y_test = test.tip"
   ]
  },
  {
   "cell_type": "code",
   "execution_count": 9,
   "id": "641b6eb9",
   "metadata": {},
   "outputs": [
    {
     "data": {
      "text/html": [
       "<div>\n",
       "<style scoped>\n",
       "    .dataframe tbody tr th:only-of-type {\n",
       "        vertical-align: middle;\n",
       "    }\n",
       "\n",
       "    .dataframe tbody tr th {\n",
       "        vertical-align: top;\n",
       "    }\n",
       "\n",
       "    .dataframe thead th {\n",
       "        text-align: right;\n",
       "    }\n",
       "</style>\n",
       "<table border=\"1\" class=\"dataframe\">\n",
       "  <thead>\n",
       "    <tr style=\"text-align: right;\">\n",
       "      <th></th>\n",
       "      <th>total_bill</th>\n",
       "      <th>sex</th>\n",
       "      <th>smoker</th>\n",
       "      <th>day</th>\n",
       "      <th>time</th>\n",
       "      <th>size</th>\n",
       "      <th>price_per_person</th>\n",
       "    </tr>\n",
       "  </thead>\n",
       "  <tbody>\n",
       "    <tr>\n",
       "      <th>85</th>\n",
       "      <td>0.200413</td>\n",
       "      <td>1.0</td>\n",
       "      <td>0.0</td>\n",
       "      <td>1.000000</td>\n",
       "      <td>1.0</td>\n",
       "      <td>0.2</td>\n",
       "      <td>0.200413</td>\n",
       "    </tr>\n",
       "    <tr>\n",
       "      <th>129</th>\n",
       "      <td>0.094812</td>\n",
       "      <td>0.0</td>\n",
       "      <td>0.0</td>\n",
       "      <td>1.000000</td>\n",
       "      <td>1.0</td>\n",
       "      <td>0.2</td>\n",
       "      <td>0.094812</td>\n",
       "    </tr>\n",
       "    <tr>\n",
       "      <th>196</th>\n",
       "      <td>0.007117</td>\n",
       "      <td>1.0</td>\n",
       "      <td>0.0</td>\n",
       "      <td>1.000000</td>\n",
       "      <td>1.0</td>\n",
       "      <td>0.2</td>\n",
       "      <td>0.007117</td>\n",
       "    </tr>\n",
       "    <tr>\n",
       "      <th>87</th>\n",
       "      <td>0.132691</td>\n",
       "      <td>1.0</td>\n",
       "      <td>0.0</td>\n",
       "      <td>1.000000</td>\n",
       "      <td>1.0</td>\n",
       "      <td>0.2</td>\n",
       "      <td>0.132691</td>\n",
       "    </tr>\n",
       "    <tr>\n",
       "      <th>77</th>\n",
       "      <td>0.244949</td>\n",
       "      <td>1.0</td>\n",
       "      <td>1.0</td>\n",
       "      <td>0.333333</td>\n",
       "      <td>0.0</td>\n",
       "      <td>0.2</td>\n",
       "      <td>0.244949</td>\n",
       "    </tr>\n",
       "  </tbody>\n",
       "</table>\n",
       "</div>"
      ],
      "text/plain": [
       "     total_bill  sex  smoker       day  time  size  price_per_person\n",
       "85     0.200413  1.0     0.0  1.000000   1.0   0.2          0.200413\n",
       "129    0.094812  0.0     0.0  1.000000   1.0   0.2          0.094812\n",
       "196    0.007117  1.0     0.0  1.000000   1.0   0.2          0.007117\n",
       "87     0.132691  1.0     0.0  1.000000   1.0   0.2          0.132691\n",
       "77     0.244949  1.0     1.0  0.333333   0.0   0.2          0.244949"
      ]
     },
     "execution_count": 9,
     "metadata": {},
     "output_type": "execute_result"
    }
   ],
   "source": [
    "X_train.head()"
   ]
  },
  {
   "cell_type": "code",
   "execution_count": 10,
   "id": "8509db73",
   "metadata": {},
   "outputs": [],
   "source": [
    "f_selector = SelectKBest(f_regression, k=2)"
   ]
  },
  {
   "cell_type": "code",
   "execution_count": 11,
   "id": "fc246110",
   "metadata": {},
   "outputs": [
    {
     "data": {
      "text/html": [
       "<style>#sk-container-id-1 {color: black;background-color: white;}#sk-container-id-1 pre{padding: 0;}#sk-container-id-1 div.sk-toggleable {background-color: white;}#sk-container-id-1 label.sk-toggleable__label {cursor: pointer;display: block;width: 100%;margin-bottom: 0;padding: 0.3em;box-sizing: border-box;text-align: center;}#sk-container-id-1 label.sk-toggleable__label-arrow:before {content: \"▸\";float: left;margin-right: 0.25em;color: #696969;}#sk-container-id-1 label.sk-toggleable__label-arrow:hover:before {color: black;}#sk-container-id-1 div.sk-estimator:hover label.sk-toggleable__label-arrow:before {color: black;}#sk-container-id-1 div.sk-toggleable__content {max-height: 0;max-width: 0;overflow: hidden;text-align: left;background-color: #f0f8ff;}#sk-container-id-1 div.sk-toggleable__content pre {margin: 0.2em;color: black;border-radius: 0.25em;background-color: #f0f8ff;}#sk-container-id-1 input.sk-toggleable__control:checked~div.sk-toggleable__content {max-height: 200px;max-width: 100%;overflow: auto;}#sk-container-id-1 input.sk-toggleable__control:checked~label.sk-toggleable__label-arrow:before {content: \"▾\";}#sk-container-id-1 div.sk-estimator input.sk-toggleable__control:checked~label.sk-toggleable__label {background-color: #d4ebff;}#sk-container-id-1 div.sk-label input.sk-toggleable__control:checked~label.sk-toggleable__label {background-color: #d4ebff;}#sk-container-id-1 input.sk-hidden--visually {border: 0;clip: rect(1px 1px 1px 1px);clip: rect(1px, 1px, 1px, 1px);height: 1px;margin: -1px;overflow: hidden;padding: 0;position: absolute;width: 1px;}#sk-container-id-1 div.sk-estimator {font-family: monospace;background-color: #f0f8ff;border: 1px dotted black;border-radius: 0.25em;box-sizing: border-box;margin-bottom: 0.5em;}#sk-container-id-1 div.sk-estimator:hover {background-color: #d4ebff;}#sk-container-id-1 div.sk-parallel-item::after {content: \"\";width: 100%;border-bottom: 1px solid gray;flex-grow: 1;}#sk-container-id-1 div.sk-label:hover label.sk-toggleable__label {background-color: #d4ebff;}#sk-container-id-1 div.sk-serial::before {content: \"\";position: absolute;border-left: 1px solid gray;box-sizing: border-box;top: 0;bottom: 0;left: 50%;z-index: 0;}#sk-container-id-1 div.sk-serial {display: flex;flex-direction: column;align-items: center;background-color: white;padding-right: 0.2em;padding-left: 0.2em;position: relative;}#sk-container-id-1 div.sk-item {position: relative;z-index: 1;}#sk-container-id-1 div.sk-parallel {display: flex;align-items: stretch;justify-content: center;background-color: white;position: relative;}#sk-container-id-1 div.sk-item::before, #sk-container-id-1 div.sk-parallel-item::before {content: \"\";position: absolute;border-left: 1px solid gray;box-sizing: border-box;top: 0;bottom: 0;left: 50%;z-index: -1;}#sk-container-id-1 div.sk-parallel-item {display: flex;flex-direction: column;z-index: 1;position: relative;background-color: white;}#sk-container-id-1 div.sk-parallel-item:first-child::after {align-self: flex-end;width: 50%;}#sk-container-id-1 div.sk-parallel-item:last-child::after {align-self: flex-start;width: 50%;}#sk-container-id-1 div.sk-parallel-item:only-child::after {width: 0;}#sk-container-id-1 div.sk-dashed-wrapped {border: 1px dashed gray;margin: 0 0.4em 0.5em 0.4em;box-sizing: border-box;padding-bottom: 0.4em;background-color: white;}#sk-container-id-1 div.sk-label label {font-family: monospace;font-weight: bold;display: inline-block;line-height: 1.2em;}#sk-container-id-1 div.sk-label-container {text-align: center;}#sk-container-id-1 div.sk-container {/* jupyter's `normalize.less` sets `[hidden] { display: none; }` but bootstrap.min.css set `[hidden] { display: none !important; }` so we also need the `!important` here to be able to override the default hidden behavior on the sphinx rendered scikit-learn.org. See: https://github.com/scikit-learn/scikit-learn/issues/21755 */display: inline-block !important;position: relative;}#sk-container-id-1 div.sk-text-repr-fallback {display: none;}</style><div id=\"sk-container-id-1\" class=\"sk-top-container\"><div class=\"sk-text-repr-fallback\"><pre>SelectKBest(k=2, score_func=&lt;function f_regression at 0x7fa92011b760&gt;)</pre><b>In a Jupyter environment, please rerun this cell to show the HTML representation or trust the notebook. <br />On GitHub, the HTML representation is unable to render, please try loading this page with nbviewer.org.</b></div><div class=\"sk-container\" hidden><div class=\"sk-item\"><div class=\"sk-estimator sk-toggleable\"><input class=\"sk-toggleable__control sk-hidden--visually\" id=\"sk-estimator-id-1\" type=\"checkbox\" checked><label for=\"sk-estimator-id-1\" class=\"sk-toggleable__label sk-toggleable__label-arrow\">SelectKBest</label><div class=\"sk-toggleable__content\"><pre>SelectKBest(k=2, score_func=&lt;function f_regression at 0x7fa92011b760&gt;)</pre></div></div></div></div></div>"
      ],
      "text/plain": [
       "SelectKBest(k=2, score_func=<function f_regression at 0x7fa92011b760>)"
      ]
     },
     "execution_count": 11,
     "metadata": {},
     "output_type": "execute_result"
    }
   ],
   "source": [
    "f_selector.fit(X_train, y_train)"
   ]
  },
  {
   "cell_type": "code",
   "execution_count": 12,
   "id": "7b8238c5",
   "metadata": {},
   "outputs": [
    {
     "name": "stdout",
     "output_type": "stream",
     "text": [
      "(146, 7)\n",
      "(146, 2)\n"
     ]
    }
   ],
   "source": [
    "X_reduced = f_selector.transform(X_train)\n",
    "\n",
    "print(X_train.shape)\n",
    "print(X_reduced.shape)"
   ]
  },
  {
   "cell_type": "code",
   "execution_count": 13,
   "id": "c58918cf",
   "metadata": {},
   "outputs": [],
   "source": [
    "f_support = f_selector.get_support()"
   ]
  },
  {
   "cell_type": "code",
   "execution_count": 14,
   "id": "f98cd2e9",
   "metadata": {},
   "outputs": [
    {
     "name": "stdout",
     "output_type": "stream",
     "text": [
      "2 selected features\n",
      "['total_bill', 'price_per_person']\n"
     ]
    }
   ],
   "source": [
    "f_feature = X_train.loc[:,f_support].columns.tolist()\n",
    "\n",
    "# you could also get the list this way (among many others)\n",
    "# f_feature = [X_train_scaled.columns.values[i] for i in range(len(feature_mask)) if feature_mask[i]==True]\n",
    "\n",
    "print(str(len(f_feature)), 'selected features')\n",
    "print(f_feature)\n"
   ]
  },
  {
   "cell_type": "markdown",
   "id": "d43bceb5",
   "metadata": {},
   "source": [
    "### d. Use recursive feature elimination to select the top 2 features for tip amount. What are they?"
   ]
  },
  {
   "cell_type": "code",
   "execution_count": 15,
   "id": "0c57c888",
   "metadata": {},
   "outputs": [],
   "source": [
    "lm = LinearRegression()"
   ]
  },
  {
   "cell_type": "code",
   "execution_count": 16,
   "id": "0a6e3cd4",
   "metadata": {},
   "outputs": [],
   "source": [
    "rfe = RFE(lm, n_features_to_select=2)"
   ]
  },
  {
   "cell_type": "code",
   "execution_count": 17,
   "id": "7f8d9685",
   "metadata": {},
   "outputs": [],
   "source": [
    "# Transforming data using RFE\n",
    "X_rfe = rfe.fit_transform(X_train, y_train)  "
   ]
  },
  {
   "cell_type": "code",
   "execution_count": 18,
   "id": "d11925f5",
   "metadata": {},
   "outputs": [
    {
     "name": "stdout",
     "output_type": "stream",
     "text": [
      "2 selected features\n",
      "['total_bill', 'price_per_person']\n"
     ]
    }
   ],
   "source": [
    "mask = rfe.support_\n",
    "\n",
    "rfe_features = X_train.loc[:,mask].columns.tolist()\n",
    "\n",
    "print(str(len(rfe_features)), 'selected features')\n",
    "print(rfe_features)"
   ]
  },
  {
   "cell_type": "markdown",
   "id": "6a1c3b0d",
   "metadata": {},
   "source": [
    "## 2. Write a function named select_kbest that takes in the predictors (X), the target (y), and the number of features to select (k) and returns the names of the top k selected features based on the SelectKBest class. Test your function with the tips dataset. You should see the same results as when you did the process manually."
   ]
  },
  {
   "cell_type": "code",
   "execution_count": 19,
   "id": "cba2a692",
   "metadata": {},
   "outputs": [],
   "source": [
    "def select_kbest(X_train, y_train, n_features):\n",
    "    \n",
    "    f_selector = SelectKBest(f_regression, k=n_features)\n",
    "    \n",
    "    f_selector.fit(X_train, y_train)\n",
    "    \n",
    "    X_reduced = f_selector.transform(X_train)\n",
    "    \n",
    "    f_support = f_selector.get_support()\n",
    "    \n",
    "    f_feature = X_train.loc[:,f_support].columns.tolist()\n",
    "    \n",
    "    print(str(len(rfe_features)), 'selected features')\n",
    "    print(rfe_features)"
   ]
  },
  {
   "cell_type": "code",
   "execution_count": 20,
   "id": "f40a0f33",
   "metadata": {},
   "outputs": [
    {
     "name": "stdout",
     "output_type": "stream",
     "text": [
      "2 selected features\n",
      "['total_bill', 'price_per_person']\n"
     ]
    }
   ],
   "source": [
    "select_kbest(X_train, y_train, 2)"
   ]
  },
  {
   "cell_type": "markdown",
   "id": "706d794e",
   "metadata": {},
   "source": [
    "## 3. Write a function named rfe that takes in the predictors, the target, and the number of features to select. It should return the top k features based on the RFE class. Test your function with the tips dataset. You should see the same results as when you did the process manually."
   ]
  },
  {
   "cell_type": "code",
   "execution_count": 21,
   "id": "be7c98ea",
   "metadata": {},
   "outputs": [],
   "source": [
    "def rfe(X_train, y_train, n_features):\n",
    "    \n",
    "    lm = LinearRegression()\n",
    "    \n",
    "    rfe = RFE(lm, n_features_to_select=n_features)\n",
    "    \n",
    "    # Transforming data using RFE\n",
    "    X_rfe = rfe.fit_transform(X_train, y_train) \n",
    "    \n",
    "    mask = rfe.support_\n",
    "\n",
    "    rfe_features = X_train.loc[:,mask].columns.tolist()\n",
    "\n",
    "    print(str(len(rfe_features)), 'selected features')\n",
    "    print(rfe_features)"
   ]
  },
  {
   "cell_type": "code",
   "execution_count": 22,
   "id": "d4a2e9b0",
   "metadata": {},
   "outputs": [
    {
     "name": "stdout",
     "output_type": "stream",
     "text": [
      "2 selected features\n",
      "['total_bill', 'price_per_person']\n"
     ]
    }
   ],
   "source": [
    "rfe(X_train, y_train, 2)"
   ]
  },
  {
   "cell_type": "markdown",
   "id": "e80af2c9",
   "metadata": {},
   "source": [
    "## 4. Load the swiss dataset and use all the other features to predict Fertility. Find the top 3 features using both select k best and recursive feature elimination (use the functions you just built to help you out)."
   ]
  },
  {
   "cell_type": "code",
   "execution_count": 23,
   "id": "0a28ea7b",
   "metadata": {},
   "outputs": [],
   "source": [
    "df = data('swiss')"
   ]
  },
  {
   "cell_type": "code",
   "execution_count": 24,
   "id": "79882fcb",
   "metadata": {},
   "outputs": [
    {
     "data": {
      "text/html": [
       "<div>\n",
       "<style scoped>\n",
       "    .dataframe tbody tr th:only-of-type {\n",
       "        vertical-align: middle;\n",
       "    }\n",
       "\n",
       "    .dataframe tbody tr th {\n",
       "        vertical-align: top;\n",
       "    }\n",
       "\n",
       "    .dataframe thead th {\n",
       "        text-align: right;\n",
       "    }\n",
       "</style>\n",
       "<table border=\"1\" class=\"dataframe\">\n",
       "  <thead>\n",
       "    <tr style=\"text-align: right;\">\n",
       "      <th></th>\n",
       "      <th>Fertility</th>\n",
       "      <th>Agriculture</th>\n",
       "      <th>Examination</th>\n",
       "      <th>Education</th>\n",
       "      <th>Catholic</th>\n",
       "      <th>Infant.Mortality</th>\n",
       "    </tr>\n",
       "  </thead>\n",
       "  <tbody>\n",
       "    <tr>\n",
       "      <th>Courtelary</th>\n",
       "      <td>80.2</td>\n",
       "      <td>17.0</td>\n",
       "      <td>15</td>\n",
       "      <td>12</td>\n",
       "      <td>9.96</td>\n",
       "      <td>22.2</td>\n",
       "    </tr>\n",
       "    <tr>\n",
       "      <th>Delemont</th>\n",
       "      <td>83.1</td>\n",
       "      <td>45.1</td>\n",
       "      <td>6</td>\n",
       "      <td>9</td>\n",
       "      <td>84.84</td>\n",
       "      <td>22.2</td>\n",
       "    </tr>\n",
       "    <tr>\n",
       "      <th>Franches-Mnt</th>\n",
       "      <td>92.5</td>\n",
       "      <td>39.7</td>\n",
       "      <td>5</td>\n",
       "      <td>5</td>\n",
       "      <td>93.40</td>\n",
       "      <td>20.2</td>\n",
       "    </tr>\n",
       "    <tr>\n",
       "      <th>Moutier</th>\n",
       "      <td>85.8</td>\n",
       "      <td>36.5</td>\n",
       "      <td>12</td>\n",
       "      <td>7</td>\n",
       "      <td>33.77</td>\n",
       "      <td>20.3</td>\n",
       "    </tr>\n",
       "    <tr>\n",
       "      <th>Neuveville</th>\n",
       "      <td>76.9</td>\n",
       "      <td>43.5</td>\n",
       "      <td>17</td>\n",
       "      <td>15</td>\n",
       "      <td>5.16</td>\n",
       "      <td>20.6</td>\n",
       "    </tr>\n",
       "  </tbody>\n",
       "</table>\n",
       "</div>"
      ],
      "text/plain": [
       "              Fertility  Agriculture  Examination  Education  Catholic  \\\n",
       "Courtelary         80.2         17.0           15         12      9.96   \n",
       "Delemont           83.1         45.1            6          9     84.84   \n",
       "Franches-Mnt       92.5         39.7            5          5     93.40   \n",
       "Moutier            85.8         36.5           12          7     33.77   \n",
       "Neuveville         76.9         43.5           17         15      5.16   \n",
       "\n",
       "              Infant.Mortality  \n",
       "Courtelary                22.2  \n",
       "Delemont                  22.2  \n",
       "Franches-Mnt              20.2  \n",
       "Moutier                   20.3  \n",
       "Neuveville                20.6  "
      ]
     },
     "execution_count": 24,
     "metadata": {},
     "output_type": "execute_result"
    }
   ],
   "source": [
    "df.head()"
   ]
  },
  {
   "cell_type": "code",
   "execution_count": 25,
   "id": "46dec19a",
   "metadata": {},
   "outputs": [],
   "source": [
    "train_validate, test = train_test_split(df, test_size = .2, random_state=311)\n",
    "\n",
    "train, validate = train_test_split(train_validate, test_size = .25, random_state=311)"
   ]
  },
  {
   "cell_type": "code",
   "execution_count": 26,
   "id": "18ea7bbe",
   "metadata": {},
   "outputs": [],
   "source": [
    "scaler = MinMaxScaler().set_output(transform=\"pandas\")\n",
    "\n",
    "scaler.fit(train)\n",
    "\n",
    "train = scaler.transform(train)\n",
    "validate = scaler.transform(validate)\n",
    "test = scaler.transform(test)\n"
   ]
  },
  {
   "cell_type": "code",
   "execution_count": 27,
   "id": "87fd152d",
   "metadata": {},
   "outputs": [],
   "source": [
    "X_train = train.drop(columns='Fertility')\n",
    "y_train = train.Fertility\n",
    "X_validate = validate.drop(columns='Fertility')\n",
    "y_validate = validate.Fertility\n",
    "X_test = test.drop(columns='Fertility')\n",
    "y_test = test.Fertility"
   ]
  },
  {
   "cell_type": "code",
   "execution_count": 31,
   "id": "53d28dab",
   "metadata": {},
   "outputs": [
    {
     "name": "stdout",
     "output_type": "stream",
     "text": [
      "2 selected features\n",
      "['total_bill', 'price_per_person']\n"
     ]
    }
   ],
   "source": [
    "select_kbest(X_train, y_train, 3)"
   ]
  },
  {
   "cell_type": "code",
   "execution_count": 29,
   "id": "7f2e4a1f",
   "metadata": {},
   "outputs": [
    {
     "name": "stdout",
     "output_type": "stream",
     "text": [
      "3 selected features\n",
      "['Examination', 'Catholic', 'Infant.Mortality']\n"
     ]
    }
   ],
   "source": [
    "rfe(X_train, y_train, 3)"
   ]
  }
 ],
 "metadata": {
  "kernelspec": {
   "display_name": "Python 3 (ipykernel)",
   "language": "python",
   "name": "python3"
  },
  "language_info": {
   "codemirror_mode": {
    "name": "ipython",
    "version": 3
   },
   "file_extension": ".py",
   "mimetype": "text/x-python",
   "name": "python",
   "nbconvert_exporter": "python",
   "pygments_lexer": "ipython3",
   "version": "3.10.9"
  }
 },
 "nbformat": 4,
 "nbformat_minor": 5
}
