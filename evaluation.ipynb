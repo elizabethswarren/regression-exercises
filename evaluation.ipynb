{
 "cells": [
  {
   "cell_type": "markdown",
   "id": "9d738bbe",
   "metadata": {},
   "source": [
    "# Evaluation Exercises"
   ]
  },
  {
   "cell_type": "code",
   "execution_count": 42,
   "id": "7e7efaf6",
   "metadata": {},
   "outputs": [],
   "source": [
    "import pandas as pd\n",
    "import numpy as np\n",
    "\n",
    "import matplotlib.pyplot as plt\n",
    "import seaborn as sns\n",
    "\n",
    "from sklearn.linear_model import LinearRegression\n",
    "from sklearn.metrics import mean_squared_error\n",
    "from sklearn.metrics import r2_score\n",
    "\n",
    "import statsmodels.api as sm\n",
    "\n",
    "import wrangle as w"
   ]
  },
  {
   "cell_type": "code",
   "execution_count": 2,
   "id": "a3a5d09b",
   "metadata": {},
   "outputs": [],
   "source": [
    "df = w.wrangle_zillow()"
   ]
  },
  {
   "cell_type": "code",
   "execution_count": 3,
   "id": "ba3028a5",
   "metadata": {},
   "outputs": [
    {
     "data": {
      "text/html": [
       "<div>\n",
       "<style scoped>\n",
       "    .dataframe tbody tr th:only-of-type {\n",
       "        vertical-align: middle;\n",
       "    }\n",
       "\n",
       "    .dataframe tbody tr th {\n",
       "        vertical-align: top;\n",
       "    }\n",
       "\n",
       "    .dataframe thead th {\n",
       "        text-align: right;\n",
       "    }\n",
       "</style>\n",
       "<table border=\"1\" class=\"dataframe\">\n",
       "  <thead>\n",
       "    <tr style=\"text-align: right;\">\n",
       "      <th></th>\n",
       "      <th>bedcount</th>\n",
       "      <th>bathcount</th>\n",
       "      <th>sqfeet</th>\n",
       "      <th>value</th>\n",
       "      <th>yearbuilt</th>\n",
       "      <th>taxamount</th>\n",
       "      <th>fips</th>\n",
       "    </tr>\n",
       "  </thead>\n",
       "  <tbody>\n",
       "    <tr>\n",
       "      <th>4</th>\n",
       "      <td>4.0</td>\n",
       "      <td>2.0</td>\n",
       "      <td>3633</td>\n",
       "      <td>296425.0</td>\n",
       "      <td>2005</td>\n",
       "      <td>6941.39</td>\n",
       "      <td>6037</td>\n",
       "    </tr>\n",
       "    <tr>\n",
       "      <th>6</th>\n",
       "      <td>3.0</td>\n",
       "      <td>4.0</td>\n",
       "      <td>1620</td>\n",
       "      <td>847770.0</td>\n",
       "      <td>2011</td>\n",
       "      <td>10244.94</td>\n",
       "      <td>6037</td>\n",
       "    </tr>\n",
       "    <tr>\n",
       "      <th>7</th>\n",
       "      <td>3.0</td>\n",
       "      <td>2.0</td>\n",
       "      <td>2077</td>\n",
       "      <td>646760.0</td>\n",
       "      <td>1926</td>\n",
       "      <td>7924.68</td>\n",
       "      <td>6037</td>\n",
       "    </tr>\n",
       "    <tr>\n",
       "      <th>11</th>\n",
       "      <td>0.0</td>\n",
       "      <td>0.0</td>\n",
       "      <td>1200</td>\n",
       "      <td>5328.0</td>\n",
       "      <td>1972</td>\n",
       "      <td>91.60</td>\n",
       "      <td>6037</td>\n",
       "    </tr>\n",
       "    <tr>\n",
       "      <th>14</th>\n",
       "      <td>0.0</td>\n",
       "      <td>0.0</td>\n",
       "      <td>171</td>\n",
       "      <td>6920.0</td>\n",
       "      <td>1973</td>\n",
       "      <td>255.17</td>\n",
       "      <td>6037</td>\n",
       "    </tr>\n",
       "  </tbody>\n",
       "</table>\n",
       "</div>"
      ],
      "text/plain": [
       "    bedcount  bathcount  sqfeet     value  yearbuilt  taxamount  fips\n",
       "4        4.0        2.0    3633  296425.0       2005    6941.39  6037\n",
       "6        3.0        4.0    1620  847770.0       2011   10244.94  6037\n",
       "7        3.0        2.0    2077  646760.0       1926    7924.68  6037\n",
       "11       0.0        0.0    1200    5328.0       1972      91.60  6037\n",
       "14       0.0        0.0     171    6920.0       1973     255.17  6037"
      ]
     },
     "execution_count": 3,
     "metadata": {},
     "output_type": "execute_result"
    }
   ],
   "source": [
    "df.head()"
   ]
  },
  {
   "cell_type": "code",
   "execution_count": 4,
   "id": "5f6826bc",
   "metadata": {},
   "outputs": [],
   "source": [
    "X_train, y_train, X_validate, y_validate, X_test, y_test = w.zillow_model_split(df)"
   ]
  },
  {
   "cell_type": "code",
   "execution_count": 5,
   "id": "d7af2a39",
   "metadata": {},
   "outputs": [],
   "source": [
    "X_train_sqft = X_train.sqfeet.values.reshape(-1,1)"
   ]
  },
  {
   "cell_type": "markdown",
   "id": "5f902a7f",
   "metadata": {},
   "source": [
    "## 2. Fit a linear regression model (ordinary least squares) and compute yhat, predictions of taxvaluedollarcnt using only calculatedfinishedsqft."
   ]
  },
  {
   "cell_type": "code",
   "execution_count": 6,
   "id": "68809733",
   "metadata": {},
   "outputs": [],
   "source": [
    "# fit the model\n",
    "\n",
    "lr = LinearRegression().fit(X_train_sqft, y_train)"
   ]
  },
  {
   "cell_type": "code",
   "execution_count": 7,
   "id": "1074cc9b",
   "metadata": {},
   "outputs": [],
   "source": [
    "y_train = pd.DataFrame(y_train)"
   ]
  },
  {
   "cell_type": "code",
   "execution_count": 9,
   "id": "456c5eae",
   "metadata": {},
   "outputs": [],
   "source": [
    "y_train['yhat_baseline'] = y_train.value.mean()"
   ]
  },
  {
   "cell_type": "code",
   "execution_count": 11,
   "id": "5bdce0dd",
   "metadata": {},
   "outputs": [],
   "source": [
    "y_train['yhat'] = lr.predict(X_train_sqft)"
   ]
  },
  {
   "cell_type": "code",
   "execution_count": 13,
   "id": "9db75a8e",
   "metadata": {},
   "outputs": [],
   "source": [
    "y_train['baseline_residuals'] = y_train.yhat_baseline - y_train.value"
   ]
  },
  {
   "cell_type": "code",
   "execution_count": 15,
   "id": "5e43b89f",
   "metadata": {},
   "outputs": [],
   "source": [
    "y_train['residuals'] = y_train.yhat - y_train.value"
   ]
  },
  {
   "cell_type": "code",
   "execution_count": 16,
   "id": "df069832",
   "metadata": {},
   "outputs": [
    {
     "data": {
      "text/html": [
       "<div>\n",
       "<style scoped>\n",
       "    .dataframe tbody tr th:only-of-type {\n",
       "        vertical-align: middle;\n",
       "    }\n",
       "\n",
       "    .dataframe tbody tr th {\n",
       "        vertical-align: top;\n",
       "    }\n",
       "\n",
       "    .dataframe thead th {\n",
       "        text-align: right;\n",
       "    }\n",
       "</style>\n",
       "<table border=\"1\" class=\"dataframe\">\n",
       "  <thead>\n",
       "    <tr style=\"text-align: right;\">\n",
       "      <th></th>\n",
       "      <th>value</th>\n",
       "      <th>yhat_baseline</th>\n",
       "      <th>yhat</th>\n",
       "      <th>baseline_residuals</th>\n",
       "      <th>residuals</th>\n",
       "    </tr>\n",
       "  </thead>\n",
       "  <tbody>\n",
       "    <tr>\n",
       "      <th>600291</th>\n",
       "      <td>363438.0</td>\n",
       "      <td>460702.563581</td>\n",
       "      <td>230840.358711</td>\n",
       "      <td>97264.563581</td>\n",
       "      <td>-132597.641289</td>\n",
       "    </tr>\n",
       "    <tr>\n",
       "      <th>1465690</th>\n",
       "      <td>629340.0</td>\n",
       "      <td>460702.563581</td>\n",
       "      <td>467796.735660</td>\n",
       "      <td>-168637.436419</td>\n",
       "      <td>-161543.264340</td>\n",
       "    </tr>\n",
       "    <tr>\n",
       "      <th>2009603</th>\n",
       "      <td>388825.0</td>\n",
       "      <td>460702.563581</td>\n",
       "      <td>548649.271269</td>\n",
       "      <td>71877.563581</td>\n",
       "      <td>159824.271269</td>\n",
       "    </tr>\n",
       "    <tr>\n",
       "      <th>2088361</th>\n",
       "      <td>224380.0</td>\n",
       "      <td>460702.563581</td>\n",
       "      <td>350170.908254</td>\n",
       "      <td>236322.563581</td>\n",
       "      <td>125790.908254</td>\n",
       "    </tr>\n",
       "    <tr>\n",
       "      <th>1181326</th>\n",
       "      <td>632000.0</td>\n",
       "      <td>460702.563581</td>\n",
       "      <td>264934.801437</td>\n",
       "      <td>-171297.436419</td>\n",
       "      <td>-367065.198563</td>\n",
       "    </tr>\n",
       "  </tbody>\n",
       "</table>\n",
       "</div>"
      ],
      "text/plain": [
       "            value  yhat_baseline           yhat  baseline_residuals  \\\n",
       "600291   363438.0  460702.563581  230840.358711        97264.563581   \n",
       "1465690  629340.0  460702.563581  467796.735660      -168637.436419   \n",
       "2009603  388825.0  460702.563581  548649.271269        71877.563581   \n",
       "2088361  224380.0  460702.563581  350170.908254       236322.563581   \n",
       "1181326  632000.0  460702.563581  264934.801437      -171297.436419   \n",
       "\n",
       "             residuals  \n",
       "600291  -132597.641289  \n",
       "1465690 -161543.264340  \n",
       "2009603  159824.271269  \n",
       "2088361  125790.908254  \n",
       "1181326 -367065.198563  "
      ]
     },
     "execution_count": 16,
     "metadata": {},
     "output_type": "execute_result"
    }
   ],
   "source": [
    "y_train.head()"
   ]
  },
  {
   "cell_type": "code",
   "execution_count": null,
   "id": "ce6fb39b",
   "metadata": {},
   "outputs": [],
   "source": [
    "train_"
   ]
  },
  {
   "cell_type": "markdown",
   "id": "7d2fa267",
   "metadata": {},
   "source": [
    "## 3. Plot the residuals for the linear regression model that you made."
   ]
  },
  {
   "cell_type": "code",
   "execution_count": 25,
   "id": "a9a32d65",
   "metadata": {},
   "outputs": [
    {
     "data": {
      "image/png": "[encoded data removed]",
      "text/plain": [
       "<Figure size 640x480 with 1 Axes>"
      ]
     },
     "metadata": {},
     "output_type": "display_data"
    }
   ],
   "source": [
    "\n",
    "sns.residplot(x='value', y='baseline_residuals', data=y_train)\n",
    "\n",
    "plt.show()"
   ]
  },
  {
   "cell_type": "code",
   "execution_count": 27,
   "id": "b81b70dc",
   "metadata": {},
   "outputs": [
    {
     "data": {
      "image/png": "[encoded data removed]",
      "text/plain": [
       "<Figure size 640x480 with 1 Axes>"
      ]
     },
     "metadata": {},
     "output_type": "display_data"
    }
   ],
   "source": [
    "sns.residplot(x='value', y='residuals', data=y_train)\n",
    "\n",
    "plt.show()"
   ]
  },
  {
   "cell_type": "markdown",
   "id": "9238a92b",
   "metadata": {},
   "source": [
    "## 4. Calculate the sum of squared errors, explained sum of squares, total sum of squares, mean squared error, and root mean squared error for your model."
   ]
  },
  {
   "cell_type": "markdown",
   "id": "b1989b44",
   "metadata": {},
   "source": [
    "## 5. Calculate the sum of squared errors, mean squared error, and root mean squared error for the baseline model (i.e. a model that always predicts the average taxvaluedollarcnt amount)."
   ]
  },
  {
   "cell_type": "code",
   "execution_count": 40,
   "id": "478f3aa3",
   "metadata": {},
   "outputs": [
    {
     "name": "stdout",
     "output_type": "stream",
     "text": [
      "\n",
      "      SSE2:           4.627086964472079e+17 \n",
      "      SSE2_baseline:  5.877274029414811e+17\n",
      "      MSE2:           360325459935.6362\n",
      "      MSE2_baseline:  457681362826.5752\n",
      "      RMSE2:          600271.1553420139\n",
      "      RMSE2_baseline: 676521.5168984466\n"
     ]
    }
   ],
   "source": [
    "SSE2 = mean_squared_error(y_train.value, y_train.yhat)*len(y_train)\n",
    "SSE2_baseline = mean_squared_error(y_train.value, y_train.yhat_baseline)*len(y_train)\n",
    "\n",
    "MSE2 = mean_squared_error(y_train.value, y_train.yhat)\n",
    "MSE2_baseline = mean_squared_error(y_train.value, y_train.yhat_baseline)\n",
    "\n",
    "RMSE2 = mean_squared_error(y_train.value, y_train.yhat) ** .5\n",
    "RMSE2_baseline = mean_squared_error(y_train.value, y_train.yhat_baseline) ** .5\n",
    "\n",
    "print(f'''\n",
    "      SSE2:           {SSE2} \n",
    "      SSE2_baseline:  {SSE2_baseline}\n",
    "      MSE2:           {MSE2}\n",
    "      MSE2_baseline:  {MSE2_baseline}\n",
    "      RMSE2:          {RMSE2}\n",
    "      RMSE2_baseline: {RMSE2_baseline}''')\n"
   ]
  },
  {
   "cell_type": "markdown",
   "id": "4fadd029",
   "metadata": {},
   "source": [
    "## 6. Write python code that compares the sum of squared errors for your model against the sum of squared errors for the baseline model and outputs whether or not your model performs better than the baseline model."
   ]
  },
  {
   "cell_type": "code",
   "execution_count": 41,
   "id": "607c757f",
   "metadata": {},
   "outputs": [
    {
     "name": "stdout",
     "output_type": "stream",
     "text": [
      "OLS Regression Model Performs Better than Baseline\n"
     ]
    }
   ],
   "source": [
    "if SSE2 < SSE2_baseline:\n",
    "    print('OLS Regression Model Performs Better than Baseline')\n",
    "else:\n",
    "    print('OLS Regression Model Does Not Perform Better than Baseline')"
   ]
  },
  {
   "cell_type": "markdown",
   "id": "30327184",
   "metadata": {},
   "source": [
    "## 7. What is the amount of variance explained in your model?"
   ]
  },
  {
   "cell_type": "code",
   "execution_count": 43,
   "id": "60e976c1",
   "metadata": {},
   "outputs": [
    {
     "data": {
      "text/plain": [
       "0.2127154627614345"
      ]
     },
     "execution_count": 43,
     "metadata": {},
     "output_type": "execute_result"
    }
   ],
   "source": [
    "r2_score(y_train.value, y_train.yhat)"
   ]
  },
  {
   "cell_type": "markdown",
   "id": "16095d10",
   "metadata": {},
   "source": [
    "## 8. Is your model better than the baseline model?"
   ]
  },
  {
   "cell_type": "markdown",
   "id": "8944d34c",
   "metadata": {},
   "source": [
    "Yes the rmse of model is lower than the baseline."
   ]
  }
 ],
 "metadata": {
  "kernelspec": {
   "display_name": "Python 3 (ipykernel)",
   "language": "python",
   "name": "python3"
  },
  "language_info": {
   "codemirror_mode": {
    "name": "ipython",
    "version": 3
   },
   "file_extension": ".py",
   "mimetype": "text/x-python",
   "name": "python",
   "nbconvert_exporter": "python",
   "pygments_lexer": "ipython3",
   "version": "3.10.9"
  }
 },
 "nbformat": 4,
 "nbformat_minor": 5
}
